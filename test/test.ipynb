{
 "cells": [
  {
   "cell_type": "code",
   "execution_count": 10,
   "metadata": {},
   "outputs": [],
   "source": [
    "from flask import Flask, jsonify, request\n",
    "from flask_restx import Api, Resource, fields\n",
    "import firebase_admin\n",
    "from firebase_admin import credentials, firestore\n",
    "import threading"
   ]
  },
  {
   "cell_type": "code",
   "execution_count": 4,
   "metadata": {},
   "outputs": [],
   "source": [
    "# Inicializa Firebase\n",
    "cred = credentials.Certificate(\"C:/Users/Daniel/Documents/Test-Back/firebase_config.json\")\n",
    "firebase_admin.initialize_app(cred)\n",
    "db = firestore.client()\n",
    "collection_name = \"items\""
   ]
  },
  {
   "cell_type": "code",
   "execution_count": 5,
   "metadata": {},
   "outputs": [],
   "source": [
    "# Inicializa Flask y Flask-RESTPlus\n",
    "app = Flask(__name__)\n",
    "api = Api(app, version='1.0', title='API CRUD con Firebase',\n",
    "            description='Una API CRUD conectada a Firebase Firestore')"
   ]
  },
  {
   "cell_type": "code",
   "execution_count": 6,
   "metadata": {},
   "outputs": [],
   "source": [
    "# Define el modelo de datos para Swagger\n",
    "item_model = api.model('Item', {\n",
    "    'name': fields.String(required=True, description='El nombre del ítem'),\n",
    "    'description': fields.String(required=True, description='Descripción del ítem'),\n",
    "    'price': fields.Float(required=True, description='Precio del ítem')\n",
    "})"
   ]
  },
  {
   "cell_type": "code",
   "execution_count": 7,
   "metadata": {},
   "outputs": [],
   "source": [
    "@api.route('/items')\n",
    "class ItemList(Resource):\n",
    "    @api.doc('list_items')\n",
    "    def get(self):\n",
    "        \"\"\"Obtiene todos los items\"\"\"\n",
    "        items_ref = db.collection(collection_name)\n",
    "        docs = items_ref.stream()\n",
    "        items = [{doc.id: doc.to_dict()} for doc in docs]\n",
    "        return jsonify(items)\n",
    "\n",
    "    @api.expect(item_model)\n",
    "    @api.doc('create_item')\n",
    "    def post(self):\n",
    "        \"\"\"Crea un nuevo item\"\"\"\n",
    "        data = request.json\n",
    "        item_ref = db.collection(collection_name).add(data)\n",
    "        return jsonify({\"id\": item_ref[1].id}), 201"
   ]
  },
  {
   "cell_type": "code",
   "execution_count": 8,
   "metadata": {},
   "outputs": [],
   "source": [
    "@api.route('/items/<string:item_id>')\n",
    "@api.param('item_id', 'El identificador del item')\n",
    "class Item(Resource):\n",
    "    @api.doc('get_item')\n",
    "    def get(self, item_id):\n",
    "        \"\"\"Obtiene un item específico\"\"\"\n",
    "        item_ref = db.collection(collection_name).document(item_id)\n",
    "        item = item_ref.get()\n",
    "        if item.exists:\n",
    "            return jsonify(item.to_dict())\n",
    "        else:\n",
    "            return jsonify({\"error\": \"Item not found\"}), 404\n",
    "\n",
    "    @api.expect(item_model)\n",
    "    @api.doc('update_item')\n",
    "    def put(self, item_id):\n",
    "        \"\"\"Actualiza un item existente\"\"\"\n",
    "        data = request.json\n",
    "        item_ref = db.collection(collection_name).document(item_id)\n",
    "        if item_ref.get().exists:\n",
    "            item_ref.update(data)\n",
    "            return jsonify({\"success\": True})\n",
    "        else:\n",
    "            return jsonify({\"error\": \"Item not found\"}), 404\n",
    "\n",
    "    @api.doc('delete_item')\n",
    "    def delete(self, item_id):\n",
    "        \"\"\"Elimina un item específico\"\"\"\n",
    "        item_ref = db.collection(collection_name).document(item_id)\n",
    "        if item_ref.get().exists:\n",
    "            item_ref.delete()\n",
    "            return jsonify({\"success\": True})\n",
    "        else:\n",
    "            return jsonify({\"error\": \"Item not found\"}), 404"
   ]
  },
  {
   "cell_type": "code",
   "execution_count": null,
   "metadata": {},
   "outputs": [],
   "source": []
  },
  {
   "cell_type": "code",
   "execution_count": 11,
   "metadata": {},
   "outputs": [
    {
     "name": "stdout",
     "output_type": "stream",
     "text": [
      " * Serving Flask app '__main__'\n",
      " * Debug mode: off\n"
     ]
    },
    {
     "name": "stderr",
     "output_type": "stream",
     "text": [
      "WARNING: This is a development server. Do not use it in a production deployment. Use a production WSGI server instead.\n",
      " * Running on http://127.0.0.1:5000\n",
      "Press CTRL+C to quit\n",
      "127.0.0.1 - - [12/Nov/2024 03:39:35] \"GET / HTTP/1.1\" 200 -\n",
      "127.0.0.1 - - [12/Nov/2024 03:39:35] \"GET /swaggerui/swagger-ui-bundle.js HTTP/1.1\" 200 -\n",
      "127.0.0.1 - - [12/Nov/2024 03:39:35] \"GET /swaggerui/swagger-ui-standalone-preset.js HTTP/1.1\" 200 -\n",
      "127.0.0.1 - - [12/Nov/2024 03:39:35] \"GET /swaggerui/swagger-ui.css HTTP/1.1\" 200 -\n",
      "127.0.0.1 - - [12/Nov/2024 03:39:35] \"GET /swaggerui/droid-sans.css HTTP/1.1\" 200 -\n",
      "127.0.0.1 - - [12/Nov/2024 03:39:35] \"GET /swagger.json HTTP/1.1\" 200 -\n",
      "127.0.0.1 - - [12/Nov/2024 03:39:35] \"GET /swaggerui/favicon-32x32.png HTTP/1.1\" 200 -\n",
      "[2024-11-12 03:41:55,129] ERROR in app: Exception on /items [POST]\n",
      "Traceback (most recent call last):\n",
      "  File \"c:\\Users\\Daniel\\miniconda3\\envs\\back\\lib\\site-packages\\flask\\app.py\", line 880, in full_dispatch_request\n",
      "    rv = self.dispatch_request()\n",
      "  File \"c:\\Users\\Daniel\\miniconda3\\envs\\back\\lib\\site-packages\\flask\\app.py\", line 865, in dispatch_request\n",
      "    return self.ensure_sync(self.view_functions[rule.endpoint])(**view_args)  # type: ignore[no-any-return]\n",
      "  File \"c:\\Users\\Daniel\\miniconda3\\envs\\back\\lib\\site-packages\\flask_restx\\api.py\", line 406, in wrapper\n",
      "    return self.make_response(data, code, headers=headers)\n",
      "  File \"c:\\Users\\Daniel\\miniconda3\\envs\\back\\lib\\site-packages\\flask_restx\\api.py\", line 430, in make_response\n",
      "    resp = self.representations[mediatype](data, *args, **kwargs)\n",
      "  File \"c:\\Users\\Daniel\\miniconda3\\envs\\back\\lib\\site-packages\\flask_restx\\representations.py\", line 22, in output_json\n",
      "    dumped = dumps(data, **settings) + \"\\n\"\n",
      "  File \"c:\\Users\\Daniel\\miniconda3\\envs\\back\\lib\\json\\__init__.py\", line 231, in dumps\n",
      "    return _default_encoder.encode(obj)\n",
      "  File \"c:\\Users\\Daniel\\miniconda3\\envs\\back\\lib\\json\\encoder.py\", line 199, in encode\n",
      "    chunks = self.iterencode(o, _one_shot=True)\n",
      "  File \"c:\\Users\\Daniel\\miniconda3\\envs\\back\\lib\\json\\encoder.py\", line 257, in iterencode\n",
      "    return _iterencode(o, 0)\n",
      "  File \"c:\\Users\\Daniel\\miniconda3\\envs\\back\\lib\\json\\encoder.py\", line 179, in default\n",
      "    raise TypeError(f'Object of type {o.__class__.__name__} '\n",
      "TypeError: Object of type Response is not JSON serializable\n",
      "127.0.0.1 - - [12/Nov/2024 03:41:55] \"POST /items HTTP/1.1\" 500 -\n",
      "127.0.0.1 - - [12/Nov/2024 03:42:48] \"GET /items HTTP/1.1\" 200 -\n",
      "127.0.0.1 - - [12/Nov/2024 03:43:48] \"GET /items/C2ickpAaSbxPoKfCjFxW HTTP/1.1\" 200 -\n",
      "127.0.0.1 - - [12/Nov/2024 03:44:29] \"PUT /items/C2ickpAaSbxPoKfCjFxW HTTP/1.1\" 200 -\n",
      "127.0.0.1 - - [12/Nov/2024 03:44:36] \"GET /items/C2ickpAaSbxPoKfCjFxW HTTP/1.1\" 200 -\n",
      "127.0.0.1 - - [12/Nov/2024 03:47:29] \"DELETE /items/C2ickpAaSbxPoKfCjFxW HTTP/1.1\" 200 -\n"
     ]
    }
   ],
   "source": [
    "# Ejecutar la aplicación\n",
    "if __name__ == '__main__':\n",
    "    app.run(debug=False)"
   ]
  }
 ],
 "metadata": {
  "kernelspec": {
   "display_name": "back",
   "language": "python",
   "name": "python3"
  },
  "language_info": {
   "codemirror_mode": {
    "name": "ipython",
    "version": 3
   },
   "file_extension": ".py",
   "mimetype": "text/x-python",
   "name": "python",
   "nbconvert_exporter": "python",
   "pygments_lexer": "ipython3",
   "version": "3.10.15"
  }
 },
 "nbformat": 4,
 "nbformat_minor": 2
}
